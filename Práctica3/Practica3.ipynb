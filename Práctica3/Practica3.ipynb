{
 "cells": [
  {
   "cell_type": "markdown",
   "metadata": {},
   "source": [
    "# Práctica 3\n",
    "@Author: Borja Gete & Fernán Ramos @Versión 1.0.1 @Date 22/03/2016"
   ]
  },
  {
   "cell_type": "markdown",
   "metadata": {},
   "source": [
    "#### Importación de librerías"
   ]
  },
  {
   "cell_type": "code",
   "execution_count": 1,
   "metadata": {
    "collapsed": false
   },
   "outputs": [],
   "source": [
    "import networkx as nx # librería de análisis de redes\n",
    "import numpy as np # librería de computación numérica\n",
    "import matplotlib.pyplot as plt\n",
    "#import plotly.plotly as py # Libreria para histogramas\n",
    "%matplotlib inline"
   ]
  },
  {
   "cell_type": "markdown",
   "metadata": {},
   "source": [
    "#### Función de preparación del Grafo"
   ]
  },
  {
   "cell_type": "code",
   "execution_count": 2,
   "metadata": {
    "collapsed": true
   },
   "outputs": [],
   "source": [
    "def preparacion(grafo):\n",
    "    #Colocamos los pesos en una unica matriz triangular\n",
    "    #ya que trabajamos con grafos no dirigidos\n",
    "    lista=[]\n",
    "    for i in grafo:\n",
    "        for j in grafo[i]:\n",
    "            if j<i:\n",
    "                dato=grafo[i][j]\n",
    "                lista.append((j,i,dato))\n",
    "    grafo.add_edges_from(lista)\n",
    "    return grafo"
   ]
  },
  {
   "cell_type": "markdown",
   "metadata": {},
   "source": [
    "#### Función de Creación de la red"
   ]
  },
  {
   "cell_type": "code",
   "execution_count": 3,
   "metadata": {
    "collapsed": false
   },
   "outputs": [],
   "source": [
    "def creacion(N,enlaces):\n",
    "# Crear la red nodirigida\n",
    "    G=nx.Graph()\n",
    "    G.add_nodes_from(N)\n",
    "    G.add_edges_from(enlaces)\n",
    "    G=preparacion(G)\n",
    "    return G"
   ]
  },
  {
   "cell_type": "markdown",
   "metadata": {},
   "source": [
    "#### Función de dibujo del grafo"
   ]
  },
  {
   "cell_type": "code",
   "execution_count": 4,
   "metadata": {
    "collapsed": false
   },
   "outputs": [],
   "source": [
    "def mostrar_grafo(grafo):\n",
    "# Visualizar la red\n",
    "    pos=nx.fruchterman_reingold_layout(grafo,k=.2)\n",
    "    nx.draw(grafo,pos,with_labels=True,node_color='b',alpha=0.3)"
   ]
  },
  {
   "cell_type": "markdown",
   "metadata": {},
   "source": [
    "### Función de simulación de vacunación aleatoria"
   ]
  },
  {
   "cell_type": "code",
   "execution_count": 5,
   "metadata": {
    "collapsed": false
   },
   "outputs": [],
   "source": [
    "def aleatorio(T,grafo):\n",
    "#Devuelve la media de las T simulaciones de la estrategia de vacunación aleatoria\n",
    "    nodos=np.random.randint(len(grafo.nodes()), size=T) #Array de individuos a los que inmunizar\n",
    "    inmunizados=0.00\n",
    "    inmunes=[]\n",
    "    for nodo in nodos:\n",
    "        inmunes.append(len(grafo.neighbors(nodo+1))) #Nº de inmunizados al vacunar al individuo nodo\n",
    "        inmunizados+=len(grafo.neighbors(nodo+1)) #Suma de inmunizados totales al vacunar los individuos\n",
    "    return inmunizados/T,inmunes"
   ]
  },
  {
   "cell_type": "markdown",
   "metadata": {},
   "source": [
    "### Función de Simulación de vacunación aleatoria indirecta"
   ]
  },
  {
   "cell_type": "code",
   "execution_count": 6,
   "metadata": {
    "collapsed": false
   },
   "outputs": [],
   "source": [
    "def aleatorio_indirecta(T,grafo):\n",
    "    #Devuelve la media de las T simulaciones de la estrategia de vacunación aleatoria indirecta\n",
    "    nodos=np.random.randint(len(grafo.nodes()), size=T) #Array de individuos originales a los que inmunizar un vecino al azar\n",
    "    inmunizados=0.00\n",
    "    inmunes=[]\n",
    "    for nodo in nodos:\n",
    "        #Obtenemos al azar la posicion del individuo a vacunar de la lista de vecinos del individuo original\n",
    "        num_vecino=np.random.randint(len(grafo.neighbors(nodo+1))) \n",
    "        inmunes.append(len(grafo.neighbors(num_vecino+1)))#Nº de inmunizados al vacunar al individuo nodo\n",
    "        inmunizados+=len(grafo.neighbors(num_vecino+1)) #Suma de inmunizados totales al vacunar los individuos\n",
    "    return inmunizados/T,inmunes"
   ]
  },
  {
   "cell_type": "markdown",
   "metadata": {},
   "source": [
    "#### Función de visualización de comparativa de media de simulacion con valores exactos"
   ]
  },
  {
   "cell_type": "code",
   "execution_count": 7,
   "metadata": {
    "collapsed": true
   },
   "outputs": [],
   "source": [
    "def relacion_aleatorio(grafo, funcion):\n",
    "    #Dibujamos un grafico de barras con una barra por cada valor obtenido del nº de individuos vacunados\n",
    "    # y la comparamos con una linea vertical que representa la media\n",
    "    #Funcion = 1 -> aleatoria\n",
    "    #Funcion = 2 -> aleatoria indirecta\n",
    "    if funcion == 2:\n",
    "        [x,y]=aleatorio_indirecta(10,grafo)\n",
    "        print \"Simulacion Aleatoria Indirecta\"\n",
    "        color='g'\n",
    "    else:\n",
    "        [x,y]=aleatorio(10,grafo)\n",
    "        print \"Simulacion Aleatoria\"\n",
    "        color='r'\n",
    "    print \"-Valores exactos de vacunación (Barras):\"\n",
    "    print y\n",
    "    print \"-Media de la simulación (Línea):\"\n",
    "    print x\n",
    "    plt.bar(range(len(y)),y,align='center')\n",
    "    l=plt.axhline(x,linewidth=4,color=color)\n",
    "    plt.xticks(range(len(y)),range(len(y)))\n",
    "    plt.show()"
   ]
  },
  {
   "cell_type": "code",
   "execution_count": 8,
   "metadata": {
    "collapsed": false
   },
   "outputs": [
    {
     "name": "stdout",
     "output_type": "stream",
     "text": [
      "Simulación de estrategia de vacunación aleatoria:\n",
      "2.00 individuo/s vacunado/s\n",
      "Simulación de estrategia de vacunación aleatoria indirecta:\n",
      "4.20 individuo/s vacunado/s\n"
     ]
    },
    {
     "data": {
      "image/png": "[encoded data removed]",
      "text/plain": [
       "<matplotlib.figure.Figure at 0x4022320>"
      ]
     },
     "metadata": {},
     "output_type": "display_data"
    }
   ],
   "source": [
    "#Ejemplo 1\n",
    "G=creacion(range(1,9),[(1,2),(1,3),(1,4),(1,5),(1,6),(2,3),(2,8),(2,9),(3,7)])\n",
    "mostrar_grafo(G)\n",
    "print \"Simulación de estrategia de vacunación aleatoria:\"\n",
    "print \"%0.2f individuo/s vacunado/s\" % (aleatorio(10,G)[0])\n",
    "print \"Simulación de estrategia de vacunación aleatoria indirecta:\"\n",
    "print \"%0.2f individuo/s vacunado/s\" % (aleatorio_indirecta(10,G)[0])"
   ]
  },
  {
   "cell_type": "code",
   "execution_count": 10,
   "metadata": {
    "collapsed": false
   },
   "outputs": [
    {
     "name": "stdout",
     "output_type": "stream",
     "text": [
      "Comparativas de media de simulacion aleatoria y aleatoria indirecta con resultados esperados\n",
      "|------------------------------------------------------------------------------------------|\n",
      "Simulacion Aleatoria\n",
      "-Valores exactos de vacunación (Barras):\n",
      "[1, 5, 1, 1, 4, 3, 1, 3, 1, 4]\n",
      "-Media de la simulación (Línea):\n",
      "2.4\n"
     ]
    },
    {
     "data": {
      "image/png": "[encoded data removed]",
      "text/plain": [
       "<matplotlib.figure.Figure at 0x7b15358>"
      ]
     },
     "metadata": {},
     "output_type": "display_data"
    },
    {
     "name": "stdout",
     "output_type": "stream",
     "text": [
      "Simulacion Aleatoria Indirecta\n",
      "-Valores exactos de vacunación (Barras):\n",
      "[5, 5, 5, 5, 5, 5, 5, 5, 5, 5]\n",
      "-Media de la simulación (Línea):\n",
      "5.0\n"
     ]
    },
    {
     "data": {
      "image/png": "[encoded data removed]",
      "text/plain": [
       "<matplotlib.figure.Figure at 0x80d0ac8>"
      ]
     },
     "metadata": {},
     "output_type": "display_data"
    }
   ],
   "source": [
    "print \"Comparativas de media de simulacion aleatoria y aleatoria indirecta con resultados esperados\"\n",
    "print \"|------------------------------------------------------------------------------------------|\"\n",
    "relacion_aleatorio(G,1)\n",
    "relacion_aleatorio(G,2)"
   ]
  },
  {
   "cell_type": "code",
   "execution_count": null,
   "metadata": {
    "collapsed": true
   },
   "outputs": [],
   "source": []
  }
 ],
 "metadata": {
  "kernelspec": {
   "display_name": "Python 2",
   "language": "python",
   "name": "python2"
  },
  "language_info": {
   "codemirror_mode": {
    "name": "ipython",
    "version": 2
   },
   "file_extension": ".py",
   "mimetype": "text/x-python",
   "name": "python",
   "nbconvert_exporter": "python",
   "pygments_lexer": "ipython2",
   "version": "2.7.11"
  }
 },
 "nbformat": 4,
 "nbformat_minor": 0
}
