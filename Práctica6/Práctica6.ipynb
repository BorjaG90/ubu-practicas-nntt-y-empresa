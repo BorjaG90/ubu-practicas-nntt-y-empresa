{
 "cells": [
  {
   "cell_type": "markdown",
   "metadata": {},
   "source": [
    "# Práctica 6\n",
    "@Author: Borja Gete & Fernán Ramos @Versión 1.0.0 @Date 04/05/2016"
   ]
  },
  {
   "cell_type": "code",
   "execution_count": 131,
   "metadata": {
    "collapsed": true
   },
   "outputs": [],
   "source": [
    "import networkx as nx # librería de análisis de redes\n",
    "import numpy as np # librería de computación numérica\n",
    "import matplotlib.pyplot as plt\n",
    "import scipy.stats as sc\n",
    "import math as math\n",
    "#import plotly.plotly as py # Libreria para histogramas\n",
    "%matplotlib inline"
   ]
  },
  {
   "cell_type": "code",
   "execution_count": 132,
   "metadata": {
    "collapsed": true
   },
   "outputs": [],
   "source": [
    "def crearLista(N):\n",
    "    nodos=[]\n",
    "    for n in range(0,N):\n",
    "        nodos.append(n)\n",
    "    return nodos"
   ]
  },
  {
   "cell_type": "code",
   "execution_count": 133,
   "metadata": {
    "collapsed": true
   },
   "outputs": [],
   "source": [
    "#función Gilbert O'Sullivan\n",
    "def gilbert(N,p):\n",
    "    red = nx.Graph()\n",
    "    nodos=crearLista(N)\n",
    "    for i in nodos:\n",
    "        red.add_node(i)\n",
    "        for j in nodos:\n",
    "            if j != i:\n",
    "                if np.random.rand(1) < p:\n",
    "                    red.add_edge(i,j)\n",
    "    return red"
   ]
  },
  {
   "cell_type": "code",
   "execution_count": 134,
   "metadata": {
    "collapsed": false
   },
   "outputs": [],
   "source": [
    "def obtenerGigante(red):\n",
    "    componenteGigante=[Gc.number_of_nodes() for Gc in nx.connected_component_subgraphs(red)]\n",
    "    componenteGigante=max(componenteGigante)\n",
    "    return componenteGigante"
   ]
  },
  {
   "cell_type": "code",
   "execution_count": 190,
   "metadata": {
    "collapsed": false
   },
   "outputs": [],
   "source": [
    "def calcularVariacion(numero,N):\n",
    "    #Definimos conjunto de valores\n",
    "    valores=np.linspace(0,np.log(N),numero)\n",
    "    \n",
    "    lista=[]\n",
    "    for i in range(0,len(valores)):\n",
    "        #generamos la red y calculamos el tamaño del componente gigante\n",
    "        pj=valores[i]/N\n",
    "        lista.append(obtenerGigante(gilbert(N,pj))) \n",
    "        \n",
    "    #representar graficamente\n",
    "    plt.hist(lista,color=\"blue\")\n",
    "    plt.hist(valores,color=\"red\")\n",
    "    plt.show()"
   ]
  },
  {
   "cell_type": "markdown",
   "metadata": {},
   "source": [
    "## 1 Modelo Gilbert\n",
    "### 1.1 Implementar en una función de python el algoritmo de generación de redes aleatorias de Gilbert G(N,p) : “red de n nodos donde la probabilidad de que dos nodos cualesquiera tengan un vínculo es p”.\n",
    "### 1.2 Para una red generada mediante el modelo anterior G(100,0.005) calcular los estadísticos:\n",
    "#### -> Número de nodos, número de enlaces"
   ]
  },
  {
   "cell_type": "code",
   "execution_count": 184,
   "metadata": {
    "collapsed": false
   },
   "outputs": [
    {
     "name": "stdout",
     "output_type": "stream",
     "text": [
      "Número de Nodos: 100\n",
      "Número de Enlaces: 52\n"
     ]
    }
   ],
   "source": [
    "red=gilbert(100,0.005)\n",
    "print \"Número de Nodos:\", len(red.nodes())\n",
    "print \"Número de Enlaces:\", len(red.edges())"
   ]
  },
  {
   "cell_type": "markdown",
   "metadata": {},
   "source": [
    "#### -> Grado máximo, mínimo y medio"
   ]
  },
  {
   "cell_type": "code",
   "execution_count": 185,
   "metadata": {
    "collapsed": false
   },
   "outputs": [
    {
     "name": "stdout",
     "output_type": "stream",
     "text": [
      "Grado medio: 1.04\n",
      "Grado máximo: 7\n",
      "Grado mínimo: 0\n"
     ]
    }
   ],
   "source": [
    "print \"Grado medio:\",np.mean(red.degree().values())\n",
    "print \"Grado máximo:\",np.max(red.degree().values())\n",
    "print \"Grado mínimo:\",np.min(red.degree().values())"
   ]
  },
  {
   "cell_type": "markdown",
   "metadata": {},
   "source": [
    "#### -> Clustering medio de los nodos"
   ]
  },
  {
   "cell_type": "code",
   "execution_count": 186,
   "metadata": {
    "collapsed": false
   },
   "outputs": [
    {
     "name": "stdout",
     "output_type": "stream",
     "text": [
      "Clustering: 0.000000000\n"
     ]
    }
   ],
   "source": [
    "print \"Clustering: %.9f\" % nx.average_clustering(red)  "
   ]
  },
  {
   "cell_type": "markdown",
   "metadata": {},
   "source": [
    "## 2 Distribución de grado\n",
    "### 2.1 Represente la distribución de grado de distintas realizaciones del modelo G(100,p) para los siguientes valores de p={0.005,0.05,0.5}. ¿Qué distribución de probabilidad sigue la distribución de grado?"
   ]
  },
  {
   "cell_type": "code",
   "execution_count": 170,
   "metadata": {
    "collapsed": false
   },
   "outputs": [
    {
     "data": {
      "image/png": "[encoded data removed]",
      "text/plain": [
       "<matplotlib.figure.Figure at 0x3cdc4e0>"
      ]
     },
     "metadata": {},
     "output_type": "display_data"
    },
    {
     "data": {
      "image/png": "[encoded data removed]",
      "text/plain": [
       "<matplotlib.figure.Figure at 0x8cd54e0>"
      ]
     },
     "metadata": {},
     "output_type": "display_data"
    },
    {
     "data": {
      "image/png": "[encoded data removed]",
      "text/plain": [
       "<matplotlib.figure.Figure at 0x8189080>"
      ]
     },
     "metadata": {},
     "output_type": "display_data"
    },
    {
     "data": {
      "image/png": "[encoded data removed]",
      "text/plain": [
       "<matplotlib.figure.Figure at 0xa871630>"
      ]
     },
     "metadata": {},
     "output_type": "display_data"
    },
    {
     "name": "stdout",
     "output_type": "stream",
     "text": [
      "La distribución de probabilidad que sigue es binomial\n"
     ]
    }
   ],
   "source": [
    "[a,b,c]= gilbert(100,000.5),gilbert(100,0.05),gilbert(100,0.5)\n",
    "plt.hist(nx.degree(c).values(),bins=15,log=True,normed=True,color=\"blue\")\n",
    "plt.show()\n",
    "plt.hist(nx.degree(b).values(),bins=15,log=True,normed=True,color=\"green\")\n",
    "plt.show()\n",
    "plt.hist(nx.degree(a).values(),bins=15,log=True,normed=True,color=\"red\",)\n",
    "plt.show()\n",
    "plt.hist(nx.degree(c).values(),bins=5,log=True,normed=True,color=\"blue\")\n",
    "plt.hist(nx.degree(b).values(),bins=10,log=True,normed=True,color=\"green\")\n",
    "plt.hist(nx.degree(a).values(),bins=10,log=True,normed=True,color=\"red\",)\n",
    "plt.show()\n",
    "print \"La distribución de probabilidad que sigue es binomial\""
   ]
  },
  {
   "cell_type": "markdown",
   "metadata": {},
   "source": [
    "## 3 Aparición del componente gigante\n",
    "### 3.1 Calcule la variación de N G /N (tamaño del componente mayor N G dividido por el número de nodos N) cuando variamos el grado medio  k de una red G( 1000 ,p) y represéntelo gráficamente de forma semejante a la figura"
   ]
  },
  {
   "cell_type": "code",
   "execution_count": 191,
   "metadata": {
    "collapsed": false
   },
   "outputs": [
    {
     "data": {
      "image/png": "[encoded data removed]",
      "text/plain": [
       "<matplotlib.figure.Figure at 0x286a198>"
      ]
     },
     "metadata": {},
     "output_type": "display_data"
    }
   ],
   "source": [
    "calcularVariacion(5,1000)"
   ]
  },
  {
   "cell_type": "code",
   "execution_count": null,
   "metadata": {
    "collapsed": true
   },
   "outputs": [],
   "source": []
  }
 ],
 "metadata": {
  "kernelspec": {
   "display_name": "Python 2",
   "language": "python",
   "name": "python2"
  },
  "language_info": {
   "codemirror_mode": {
    "name": "ipython",
    "version": 2
   },
   "file_extension": ".py",
   "mimetype": "text/x-python",
   "name": "python",
   "nbconvert_exporter": "python",
   "pygments_lexer": "ipython2",
   "version": "2.7.11"
  }
 },
 "nbformat": 4,
 "nbformat_minor": 0
}
