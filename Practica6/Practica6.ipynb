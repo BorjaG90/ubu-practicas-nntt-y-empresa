{
 "cells": [
  {
   "cell_type": "markdown",
   "metadata": {},
   "source": [
    "# Práctica 6\n",
    "@Author: Borja Gete & Fernán Ramos @Versión 1.0.0 @Date 04/05/2016"
   ]
  },
  {
   "cell_type": "code",
   "execution_count": 38,
   "metadata": {
    "collapsed": true
   },
   "outputs": [],
   "source": [
    "import networkx as nx # librería de análisis de redes\n",
    "import numpy as np # librería de computación numérica\n",
    "import matplotlib.pyplot as plt\n",
    "import scipy.stats as sc\n",
    "import math as math\n",
    "#import plotly.plotly as py # Libreria para histogramas\n",
    "%matplotlib inline"
   ]
  },
  {
   "cell_type": "code",
   "execution_count": 39,
   "metadata": {
    "collapsed": true
   },
   "outputs": [],
   "source": [
    "def crearLista(N):\n",
    "    nodos=[]\n",
    "    for n in range(0,N):\n",
    "        nodos.append(n)\n",
    "    return nodos"
   ]
  },
  {
   "cell_type": "code",
   "execution_count": 48,
   "metadata": {
    "collapsed": true
   },
   "outputs": [],
   "source": [
    "#función Gilbert O'Sullivan\n",
    "def gilbert(N,p):\n",
    "    red = nx.Graph()\n",
    "    [nodos,nodos2]=crearLista(N),crearLista(N)\n",
    "    red.add_nodes_from(nodos)\n",
    "    for origen in nodos:\n",
    "        nodos2.remove(origen)\n",
    "        for destino in nodos2:\n",
    "            if np.random.rand(1) < p:\n",
    "                red.add_edge(origen,destino)\n",
    "    return red"
   ]
  },
  {
   "cell_type": "code",
   "execution_count": 49,
   "metadata": {
    "collapsed": false
   },
   "outputs": [],
   "source": [
    "#Funcion para obtener el componente Gigante de una red/grafo\n",
    "def obtenerGigante(red):\n",
    "    return max([Gc.number_of_nodes() for Gc in nx.connected_component_subgraphs(red)])"
   ]
  },
  {
   "cell_type": "code",
   "execution_count": 120,
   "metadata": {
    "collapsed": false
   },
   "outputs": [],
   "source": [
    "def calcularVariacion(numero,N,rep):\n",
    "    #Definimos conjunto de valores\n",
    "    Kjs=np.linspace(0,np.log(N),numero)\n",
    "    Ng=[]\n",
    "    #limite=0\n",
    "    Ng.append(0.0)\n",
    "    for kj in Kjs:\n",
    "        #limite+=1\n",
    "        sumNg=0\n",
    "        for i in range(1,rep):\n",
    "            #generamos la red y calculamos el tamaño del componente gigante\n",
    "            sumNg += obtenerGigante(gilbert(N,kj/N))\n",
    "        sumNg=sumNg/rep\n",
    "        Ng.append(float(sumNg)/N) #Añadimos la media de Ng\n",
    "    print \"NG\",Ng\n",
    "    #representar graficamente\n",
    "    plt.plot(Ng,color=\"blue\")\n",
    "    plt.axis([0,numero,0,1])\n",
    "    plt.show()"
   ]
  },
  {
   "cell_type": "markdown",
   "metadata": {},
   "source": [
    "## 1 Modelo Gilbert\n",
    "### 1.1 Implementar en una función de python el algoritmo de generación de redes aleatorias de Gilbert G(N,p) : “red de n nodos donde la probabilidad de que dos nodos cualesquiera tengan un vínculo es p”.\n",
    "### 1.2 Para una red generada mediante el modelo anterior G(100,0.005) calcular los estadísticos:\n",
    "#### -> Número de nodos, número de enlaces"
   ]
  },
  {
   "cell_type": "code",
   "execution_count": 79,
   "metadata": {
    "collapsed": false
   },
   "outputs": [
    {
     "name": "stdout",
     "output_type": "stream",
     "text": [
      "Número de Nodos: 100\n",
      "Número de Enlaces: 21\n"
     ]
    }
   ],
   "source": [
    "red=gilbert(100,0.005)\n",
    "print \"Número de Nodos:\", len(red.nodes())\n",
    "print \"Número de Enlaces:\", len(red.edges())"
   ]
  },
  {
   "cell_type": "markdown",
   "metadata": {},
   "source": [
    "#### -> Grado máximo, mínimo y medio"
   ]
  },
  {
   "cell_type": "code",
   "execution_count": 52,
   "metadata": {
    "collapsed": false
   },
   "outputs": [
    {
     "name": "stdout",
     "output_type": "stream",
     "text": [
      "Grado medio: 0.66\n",
      "Grado máximo: 3\n",
      "Grado mínimo: 0\n"
     ]
    }
   ],
   "source": [
    "print \"Grado medio:\",np.mean(red.degree().values())\n",
    "print \"Grado máximo:\",np.max(red.degree().values())\n",
    "print \"Grado mínimo:\",np.min(red.degree().values())"
   ]
  },
  {
   "cell_type": "markdown",
   "metadata": {},
   "source": [
    "#### -> Clustering medio de los nodos"
   ]
  },
  {
   "cell_type": "code",
   "execution_count": 53,
   "metadata": {
    "collapsed": false
   },
   "outputs": [
    {
     "name": "stdout",
     "output_type": "stream",
     "text": [
      "Clustering: 0.000000000\n"
     ]
    }
   ],
   "source": [
    "print \"Clustering: %.9f\" % nx.average_clustering(red)  "
   ]
  },
  {
   "cell_type": "markdown",
   "metadata": {},
   "source": [
    "## 2 Distribución de grado\n",
    "### 2.1 Represente la distribución de grado de distintas realizaciones del modelo G(100,p) para los siguientes valores de p={0.005,0.05,0.5}. ¿Qué distribución de probabilidad sigue la distribución de grado?"
   ]
  },
  {
   "cell_type": "code",
   "execution_count": 54,
   "metadata": {
    "collapsed": false
   },
   "outputs": [
    {
     "data": {
      "image/png": "[encoded data removed]",
      "text/plain": [
       "<matplotlib.figure.Figure at 0x90fac88>"
      ]
     },
     "metadata": {},
     "output_type": "display_data"
    },
    {
     "data": {
      "image/png": "[encoded data removed]",
      "text/plain": [
       "<matplotlib.figure.Figure at 0x9999a90>"
      ]
     },
     "metadata": {},
     "output_type": "display_data"
    },
    {
     "data": {
      "image/png": "[encoded data removed]",
      "text/plain": [
       "<matplotlib.figure.Figure at 0x84ab0b8>"
      ]
     },
     "metadata": {},
     "output_type": "display_data"
    },
    {
     "data": {
      "image/png": "[encoded data removed]",
      "text/plain": [
       "<matplotlib.figure.Figure at 0x88c6e48>"
      ]
     },
     "metadata": {},
     "output_type": "display_data"
    },
    {
     "name": "stdout",
     "output_type": "stream",
     "text": [
      "La distribución de probabilidad que sigue es binomial\n"
     ]
    }
   ],
   "source": [
    "[a,b,c]= gilbert(100,000.5),gilbert(100,0.05),gilbert(100,0.5)\n",
    "plt.hist(nx.degree(c).values(),bins=15,log=True,normed=True,color=\"blue\")\n",
    "plt.show()\n",
    "plt.hist(nx.degree(b).values(),bins=15,log=True,normed=True,color=\"green\")\n",
    "plt.show()\n",
    "plt.hist(nx.degree(a).values(),bins=15,log=True,normed=True,color=\"red\",)\n",
    "plt.show()\n",
    "plt.hist(nx.degree(c).values(),bins=5,log=True,normed=True,color=\"blue\")\n",
    "plt.hist(nx.degree(b).values(),bins=10,log=True,normed=True,color=\"green\")\n",
    "plt.hist(nx.degree(a).values(),bins=10,log=True,normed=True,color=\"red\",)\n",
    "plt.show()\n",
    "print \"La distribución de probabilidad que sigue es binomial\""
   ]
  },
  {
   "cell_type": "markdown",
   "metadata": {},
   "source": [
    "## 3 Aparición del componente gigante\n",
    "### 3.1 Calcule la variación de N G /N (tamaño del componente mayor N G dividido por el número de nodos N) cuando variamos el grado medio  k de una red G( 1000 ,p) y represéntelo gráficamente de forma semejante a la figura"
   ]
  },
  {
   "cell_type": "code",
   "execution_count": 123,
   "metadata": {
    "collapsed": false
   },
   "outputs": [
    {
     "name": "stdout",
     "output_type": "stream",
     "text": [
      "NG [0.0, 0.0, 0.256, 0.664, 0.752, 0.796, 0.796]\n"
     ]
    },
    {
     "data": {
      "image/png": "[encoded data removed]",
      "text/plain": [
       "<matplotlib.figure.Figure at 0x3f210b8>"
      ]
     },
     "metadata": {},
     "output_type": "display_data"
    }
   ],
   "source": [
    "calcularVariacion(6,250,5)"
   ]
  },
  {
   "cell_type": "code",
   "execution_count": null,
   "metadata": {
    "collapsed": true
   },
   "outputs": [],
   "source": []
  }
 ],
 "metadata": {
  "kernelspec": {
   "display_name": "Python 2",
   "language": "python",
   "name": "python2"
  },
  "language_info": {
   "codemirror_mode": {
    "name": "ipython",
    "version": 2
   },
   "file_extension": ".py",
   "mimetype": "text/x-python",
   "name": "python",
   "nbconvert_exporter": "python",
   "pygments_lexer": "ipython2",
   "version": "2.7.11"
  }
 },
 "nbformat": 4,
 "nbformat_minor": 0
}
