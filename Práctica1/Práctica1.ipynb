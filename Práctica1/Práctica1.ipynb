{
 "cells": [
  {
   "cell_type": "markdown",
   "metadata": {},
   "source": [
    "# Práctica 1\n",
    "@Author: Borja Gete & Fernán Ramos\n",
    "@Versión 1.0.2\n",
    "@Date 09/03/2016"
   ]
  },
  {
   "cell_type": "markdown",
   "metadata": {},
   "source": [
    "#### Importación de librerías"
   ]
  },
  {
   "cell_type": "code",
   "execution_count": 1,
   "metadata": {
    "collapsed": true
   },
   "outputs": [],
   "source": [
    "import networkx as nx # librería de análisis de redes\n",
    "import numpy as np # librería de computación numérica\n",
    "import matplotlib.pyplot as plot # librería de Visualización\n",
    "%matplotlib inline"
   ]
  },
  {
   "cell_type": "markdown",
   "metadata": {},
   "source": [
    "#### Definición de Parámetros"
   ]
  },
  {
   "cell_type": "code",
   "execution_count": 2,
   "metadata": {
    "collapsed": true
   },
   "outputs": [],
   "source": [
    "N = 10 # Número de nodos\n",
    "L = 20 # número de lados"
   ]
  },
  {
   "cell_type": "markdown",
   "metadata": {},
   "source": [
    "#### Creación de la lista de enlaces"
   ]
  },
  {
   "cell_type": "code",
   "execution_count": 3,
   "metadata": {
    "collapsed": false
   },
   "outputs": [
    {
     "name": "stdout",
     "output_type": "stream",
     "text": [
      "[(1.0, 0.0), (0.0, 1.0), (2.0, 0.0), (0.0, 2.0), (2.0, 1.0), (1.0, 2.0), (4.0, 0.0), (0.0, 4.0), (5.0, 0.0), (0.0, 5.0), (5.0, 1.0), (1.0, 5.0), (6.0, 0.0), (0.0, 6.0), (7.0, 2.0), (2.0, 7.0), (7.0, 5.0), (5.0, 7.0), (7.0, 6.0), (6.0, 7.0), (8.0, 1.0), (1.0, 8.0), (8.0, 2.0), (2.0, 8.0), (8.0, 3.0), (3.0, 8.0), (8.0, 4.0), (4.0, 8.0), (8.0, 6.0), (6.0, 8.0), (8.0, 7.0), (7.0, 8.0), (9.0, 0.0), (0.0, 9.0), (9.0, 1.0), (1.0, 9.0), (9.0, 6.0), (6.0, 9.0), (9.0, 7.0), (7.0, 9.0)]\n"
     ]
    }
   ],
   "source": [
    "lista = np.random.randint(100,size = ((N**2)-N)/2)\n",
    "lista = lista\n",
    "lista2 = sorted(lista, reverse=True)\n",
    "bias = lista2[L-1] #Limite\n",
    "repes=0\n",
    "for i in range(len(lista)):\n",
    "    if(lista[i]<bias):\n",
    "        lista[i]=0\n",
    "    elif(lista[i]>bias):\n",
    "        lista[i]=1\n",
    "    elif(lista[i]==bias and repes<1):\n",
    "        repes+=1\n",
    "        lista[i]=1 # Con enlace\n",
    "    else:\n",
    "        lista[i]=0 # Sin enlace\n",
    "contador=0\n",
    "listaE=[]\n",
    "for i in range(1,N+1):\n",
    "    for j in range(0,i-1):\n",
    "        if(lista[contador]>0): #Coordenadas de la matriz de adyacencia\n",
    "            listaE.append( (float(i-1),float(j)) )\n",
    "            listaE.append( (float(j),float(i-1)) )\n",
    "        contador+=1"
   ]
  },
  {
   "cell_type": "markdown",
   "metadata": {},
   "source": [
    "#### Creación de la matriz de adyacencia"
   ]
  },
  {
   "cell_type": "code",
   "execution_count": 4,
   "metadata": {
    "collapsed": false
   },
   "outputs": [
    {
     "data": {
      "text/plain": [
       "matrix([[0, 1, 1, 0, 1, 1, 1, 0, 0, 1],\n",
       "        [1, 0, 1, 0, 0, 1, 0, 0, 1, 1],\n",
       "        [1, 1, 0, 0, 0, 0, 0, 1, 1, 0],\n",
       "        [0, 0, 0, 0, 0, 0, 0, 0, 1, 0],\n",
       "        [1, 0, 0, 0, 0, 0, 0, 0, 1, 0],\n",
       "        [1, 1, 0, 0, 0, 0, 0, 1, 0, 0],\n",
       "        [1, 0, 0, 0, 0, 0, 0, 1, 1, 1],\n",
       "        [0, 0, 1, 0, 0, 1, 1, 0, 1, 1],\n",
       "        [0, 1, 1, 1, 1, 0, 1, 1, 0, 0],\n",
       "        [1, 1, 0, 0, 0, 0, 1, 1, 0, 0]])"
      ]
     },
     "execution_count": 4,
     "metadata": {},
     "output_type": "execute_result"
    }
   ],
   "source": [
    "G=nx.DiGraph()\n",
    "G.add_nodes_from(range(N)) # Añadimos los nodos de 0 a N-1\n",
    "G.nodes()\n",
    "G.add_edges_from(listaE) # Añadimos los enlaces desde la lista\n",
    "G.edges()\n",
    "G.adj\n",
    "G1=nx.adjacency_matrix(G)\n",
    "G1.todense()"
   ]
  },
  {
   "cell_type": "markdown",
   "metadata": {},
   "source": [
    "#### Obtención del Grado medio\n",
    "##### (Múltiples formas)"
   ]
  },
  {
   "cell_type": "code",
   "execution_count": 5,
   "metadata": {
    "collapsed": false
   },
   "outputs": [
    {
     "name": "stdout",
     "output_type": "stream",
     "text": [
      "Grado Medio (Matriz de adyacencia): 4.00\n",
      "Grado Medio (Networkx): 4.00\n",
      "Grado Medio (Fórmula): 4.00\n"
     ]
    }
   ],
   "source": [
    "G2=G.to_undirected() # Grafo no dirigido\n",
    "print 'Grado Medio (Matriz de adyacencia): %0.2f' % np.mean(G1.sum(0))\n",
    "print 'Grado Medio (Networkx): %0.2f' % np.mean(G2.degree().values())\n",
    "print 'Grado Medio (Fórmula): %0.2f' % (2.0*G2.number_of_edges()/G2.number_of_nodes())"
   ]
  },
  {
   "cell_type": "markdown",
   "metadata": {},
   "source": [
    "#### Obtención del Camino más corto\n",
    "##### (Desde el nodo 0 hasta el último)"
   ]
  },
  {
   "cell_type": "code",
   "execution_count": 6,
   "metadata": {
    "collapsed": false
   },
   "outputs": [
    {
     "name": "stdout",
     "output_type": "stream",
     "text": [
      "[0.0, 9.0]\n"
     ]
    }
   ],
   "source": [
    "print(nx.shortest_path(G,source=0.0,target=N-1.0))"
   ]
  },
  {
   "cell_type": "markdown",
   "metadata": {},
   "source": [
    "#### Visualización de la red"
   ]
  },
  {
   "cell_type": "code",
   "execution_count": 7,
   "metadata": {
    "collapsed": false
   },
   "outputs": [
    {
     "data": {
      "image/png": "[encoded data removed]",
      "text/plain": [
       "<matplotlib.figure.Figure at 0x3f07f28>"
      ]
     },
     "metadata": {},
     "output_type": "display_data"
    }
   ],
   "source": [
    "pos = nx.circular_layout(G2)\n",
    "nx.draw(G2,pos,with_labels=True,node_color='k',alpha=0.3)\n",
    "shortest_path = nx.shortest_path(G2,source=0,target=N-1)\n",
    "shortest_path_edges = zip(shortest_path,shortest_path[1:])\n",
    "nx.draw_networkx_nodes(G2,pos,nodelist=shortest_path,node_color='g')\n",
    "nx.draw_networkx_edges(G2,pos,edgelist=shortest_path_edges,edge_color='g',width=2)\n",
    "plot.show()"
   ]
  },
  {
   "cell_type": "code",
   "execution_count": null,
   "metadata": {
    "collapsed": true
   },
   "outputs": [],
   "source": []
  }
 ],
 "metadata": {
  "kernelspec": {
   "display_name": "Python 2",
   "language": "python",
   "name": "python2"
  },
  "language_info": {
   "codemirror_mode": {
    "name": "ipython",
    "version": 2
   },
   "file_extension": ".py",
   "mimetype": "text/x-python",
   "name": "python",
   "nbconvert_exporter": "python",
   "pygments_lexer": "ipython2",
   "version": "2.7.11"
  }
 },
 "nbformat": 4,
 "nbformat_minor": 0
}
