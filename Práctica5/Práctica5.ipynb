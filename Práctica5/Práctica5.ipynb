{
 "cells": [
  {
   "cell_type": "markdown",
   "metadata": {},
   "source": [
    "# Práctica 5\n",
    "@Author: Borja Gete & Fernán Ramos @Versión 1.0.0 @Date 06/04/2016"
   ]
  },
  {
   "cell_type": "code",
   "execution_count": 1,
   "metadata": {
    "collapsed": true
   },
   "outputs": [],
   "source": [
    "import networkx as nx # librería de análisis de redes\n",
    "import numpy as np # librería de computación numérica\n",
    "import matplotlib.pyplot as plt\n",
    "import scipy.stats as sc\n",
    "import math as math\n",
    "#import plotly.plotly as py # Libreria para histogramas\n",
    "%matplotlib inline"
   ]
  },
  {
   "cell_type": "code",
   "execution_count": 2,
   "metadata": {
    "collapsed": true
   },
   "outputs": [],
   "source": [
    "#funcion que devuelve el grado medio de un grafo\n",
    "def gradoMedio(grafo):\n",
    "    x=0\n",
    "    for nodo in grafo.nodes():\n",
    "        n=grafo.degree(nodo)\n",
    "        x=x+n\n",
    "    return x/grafo.number_of_nodes()"
   ]
  },
  {
   "cell_type": "code",
   "execution_count": 3,
   "metadata": {
    "collapsed": false
   },
   "outputs": [],
   "source": [
    "#funcion que devuelve el grado máximo de un grafo\n",
    "def gradoMax(grafo):\n",
    "    x=sorted(nx.degree(grafo).values(),reverse=True)\n",
    "    return max(x)"
   ]
  },
  {
   "cell_type": "code",
   "execution_count": 4,
   "metadata": {
    "collapsed": false
   },
   "outputs": [],
   "source": [
    "#funcion que devuelve el grado mínimo de un grafo\n",
    "def gradoMin(grafo):\n",
    "    x=sorted(nx.degree(grafo).values(),reverse=True)\n",
    "    return min(x)"
   ]
  },
  {
   "cell_type": "markdown",
   "metadata": {},
   "source": [
    "## 2 Distribuciones Power Law"
   ]
  },
  {
   "cell_type": "markdown",
   "metadata": {},
   "source": [
    "### 2.1 Dadas las redes de la figura, ¿cuál de ellas presenta una propiedad scale-free?"
   ]
  },
  {
   "cell_type": "markdown",
   "metadata": {},
   "source": [
    "La 2ª ya que en la primera imagen observamos que la mayoría de los nodos tiene un número parecido de enlaces, sin gran diferencia entre el que posee mayor número de enlaces y el de menor, en cambio en la 2ª imagen observamos nodos con gran cantidad de enlaces, a los que podemos calificar fácilmente de Hubs"
   ]
  },
  {
   "cell_type": "markdown",
   "metadata": {},
   "source": [
    "### 2.2 De los siguientes mecanismos ¿cuál de ellos podría generar propiedad scale-free con más probabilidad?"
   ]
  },
  {
   "cell_type": "markdown",
   "metadata": {},
   "source": [
    "La 2ª: Un usuario crea una página web y añade un enlace a la página que le proporciona\n",
    "el primer resultado de una búsqueda en Google\n",
    "Ya que la página del amigo tendrá un número de enlaces similar a nuestra página, en cambio la página bien posicionada en los resultados es altamente probable que referencie a muchas otras páginas (sea un Hub)"
   ]
  },
  {
   "cell_type": "markdown",
   "metadata": {},
   "source": [
    "## 3 Estudio de la distribución de grado de una red"
   ]
  },
  {
   "cell_type": "markdown",
   "metadata": {},
   "source": [
    "### 3.1 Estadísticas\n",
    "#### Calcule las siguientes estadísticas de la red:\n",
    "● Número de nodos\n",
    "● Número de enlaces\n",
    "● Grado medio\n",
    "● Grado máximo\n",
    "● Grado mínimo"
   ]
  },
  {
   "cell_type": "code",
   "execution_count": 5,
   "metadata": {
    "collapsed": false
   },
   "outputs": [
    {
     "name": "stdout",
     "output_type": "stream",
     "text": [
      "Número de nodos: 22963\n",
      "Número de enlaces: 48436\n",
      "Grado medio: 4.00\n",
      "Grado máximo: 2390\n",
      "Grado mínimo: 1\n"
     ]
    }
   ],
   "source": [
    "G = nx.read_gexf('internet_routers-22july06-2.gexf')\n",
    "print(\"Número de nodos: %d\" % G.number_of_nodes())\n",
    "print(\"Número de enlaces: %d\" % G.number_of_edges())\n",
    "print(\"Grado medio: %.2f\" % gradoMedio(G))\n",
    "print(\"Grado máximo: %d\" % gradoMax(G))\n",
    "print(\"Grado mínimo: %d\" % gradoMin(G))"
   ]
  },
  {
   "cell_type": "markdown",
   "metadata": {},
   "source": [
    "### 3.2 Histograma\n",
    "#### Dibuje un histograma de la distribución de grado de la red. Dada una red, la probabilidad de encontrar un nodo con grado k se define como pk=Nk/N (siendo Nk el número de nodos con grado k).\n",
    "#### Cambie la escala de los ejes de lineal a logarítmica"
   ]
  },
  {
   "cell_type": "code",
   "execution_count": 6,
   "metadata": {
    "collapsed": false
   },
   "outputs": [
    {
     "data": {
      "image/png": "[encoded data removed]",
      "text/plain": [
       "<matplotlib.figure.Figure at 0x3f7b1d0>"
      ]
     },
     "metadata": {},
     "output_type": "display_data"
    },
    {
     "data": {
      "image/png": "[encoded data removed]",
      "text/plain": [
       "<matplotlib.figure.Figure at 0x2765fd0>"
      ]
     },
     "metadata": {},
     "output_type": "display_data"
    },
    {
     "name": "stdout",
     "output_type": "stream",
     "text": [
      "Evidentemente, se visualiza mejor con la escala logaritmica\n"
     ]
    }
   ],
   "source": [
    "valores=nx.degree(G).values()\n",
    "plt.hist(valores,bins=5,color=\"red\",normed=True)\n",
    "plt.show()\n",
    "plt.hist(valores,bins=250,log=True,normed=True)\n",
    "plt.show()\n",
    "print(\"Evidentemente, se visualiza mejor con la escala logaritmica\")"
   ]
  },
  {
   "cell_type": "markdown",
   "metadata": {},
   "source": [
    "### 3.3 Histograma con clase variable logaritmica"
   ]
  },
  {
   "cell_type": "code",
   "execution_count": 7,
   "metadata": {
    "collapsed": false
   },
   "outputs": [
    {
     "data": {
      "text/plain": [
       "<Container object of 9 artists>"
      ]
     },
     "execution_count": 7,
     "metadata": {},
     "output_type": "execute_result"
    },
    {
     "data": {
      "image/png": "[encoded data removed]",
      "text/plain": [
       "<matplotlib.figure.Figure at 0xf46c0b8>"
      ]
     },
     "metadata": {},
     "output_type": "display_data"
    }
   ],
   "source": [
    "bins=[pow(2,1),pow(2,2),pow(2,3),pow(2,4),pow(2,5),pow(2,6),pow(2,7),pow(2,8),pow(2,9),pow(2,10)]\n",
    "[val,bins]=np.histogram(valores,bins,normed=True)\n",
    "binis=[]\n",
    "for n in range(0,len(bins)-1):\n",
    "    binis.append(bins[n])\n",
    "ancho=[]\n",
    "for n in range(0,len(binis)):\n",
    "    ancho.append(bins[n+1]-binis[n])\n",
    "plt.bar(binis,val,ancho,log=True)"
   ]
  },
  {
   "cell_type": "markdown",
   "metadata": {},
   "source": [
    "### 3.4 Estimación parámetro de power law"
   ]
  },
  {
   "cell_type": "code",
   "execution_count": 8,
   "metadata": {
    "collapsed": false
   },
   "outputs": [
    {
     "name": "stdout",
     "output_type": "stream",
     "text": [
      "Pendiente/Alpha de la power law: -0.80 \n",
      "R2 del ajuste: -0.99 \n",
      "P-valor: 0.00\n"
     ]
    }
   ],
   "source": [
    "pendiente,intercepcion,correlacion,valorp,error=sc.linregress(np.log(val), np.log(binis))\n",
    "print \"Pendiente/Alpha de la power law: %.2f \" % pendiente\n",
    "print \"R2 del ajuste: %.2f \" % correlacion\n",
    "print \"P-valor: %.2f\" % valorp\n"
   ]
  },
  {
   "cell_type": "markdown",
   "metadata": {},
   "source": [
    "### 3.5 Estimación mediante distribución acumulada"
   ]
  },
  {
   "cell_type": "code",
   "execution_count": 43,
   "metadata": {
    "collapsed": false
   },
   "outputs": [
    {
     "name": "stdout",
     "output_type": "stream",
     "text": [
      "Pendiente de la power law: -0.74 \n",
      "R2 del ajuste: -0.97 \n",
      "P-valor: 0.00\n",
      "Alpha de la power law: 1.74 \n"
     ]
    },
    {
     "data": {
      "image/png": "[encoded data removed]",
      "text/plain": [
       "<matplotlib.figure.Figure at 0x108127f0>"
      ]
     },
     "metadata": {},
     "output_type": "display_data"
    }
   ],
   "source": [
    "#Ordenamos\n",
    "x=sorted(nx.degree(G).values(),reverse=True)\n",
    "dic={}\n",
    "val1=[]\n",
    "val2=[]\n",
    "for n in range(0,len(x)):\n",
    "    dic[n]=x[n],float(float(n+1)/float(len(x)))\n",
    "    val1.append(x[n])\n",
    "    val2.append(float(float(n+1)/float(len(x))))\n",
    "#Gráfica\n",
    "plt.plot(val1,val2,'o')\n",
    "plt.xscale('log')\n",
    "#plt.yscale('log') #Problemas con el intérprete\n",
    "pendiente,intercepcion,correlacion,valorp,error=sc.linregress(np.log(val2), np.log(val1))\n",
    "print \"Pendiente de la power law: %.2f \" % pendiente\n",
    "print \"R2 del ajuste: %.2f \" % correlacion\n",
    "print \"P-valor: %.2f\" % valorp\n",
    "alpha=1-pendiente\n",
    "print \"Alpha de la power law: %.2f \" % alpha\n"
   ]
  },
  {
   "cell_type": "code",
   "execution_count": null,
   "metadata": {
    "collapsed": true
   },
   "outputs": [],
   "source": []
  }
 ],
 "metadata": {
  "kernelspec": {
   "display_name": "Python 2",
   "language": "python",
   "name": "python2"
  },
  "language_info": {
   "codemirror_mode": {
    "name": "ipython",
    "version": 2
   },
   "file_extension": ".py",
   "mimetype": "text/x-python",
   "name": "python",
   "nbconvert_exporter": "python",
   "pygments_lexer": "ipython2",
   "version": "2.7.11"
  }
 },
 "nbformat": 4,
 "nbformat_minor": 0
}
